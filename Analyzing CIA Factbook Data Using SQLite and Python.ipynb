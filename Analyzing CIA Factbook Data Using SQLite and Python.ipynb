{
 "cells": [
  {
   "cell_type": "markdown",
   "metadata": {
    "collapsed": true
   },
   "source": [
    "# Guided Project: Analyzing CIA Factbook Data Using SQLite and Python"
   ]
  },
  {
   "cell_type": "markdown",
   "metadata": {},
   "source": [
    "## Overview of the Data"
   ]
  },
  {
   "cell_type": "code",
   "execution_count": 1,
   "metadata": {
    "collapsed": false
   },
   "outputs": [
    {
     "data": {
      "text/plain": [
       "[('table',\n",
       "  'sqlite_sequence',\n",
       "  'sqlite_sequence',\n",
       "  3,\n",
       "  'CREATE TABLE sqlite_sequence(name,seq)'),\n",
       " ('table',\n",
       "  'facts',\n",
       "  'facts',\n",
       "  47,\n",
       "  'CREATE TABLE \"facts\" (\"id\" INTEGER PRIMARY KEY AUTOINCREMENT NOT NULL, \"code\" varchar(255) NOT NULL, \"name\" varchar(255) NOT NULL, \"area\" integer, \"area_land\" integer, \"area_water\" integer, \"population\" integer, \"population_growth\" float, \"birth_rate\" float, \"death_rate\" float, \"migration_rate\" float)')]"
      ]
     },
     "execution_count": 1,
     "metadata": {},
     "output_type": "execute_result"
    }
   ],
   "source": [
    "#Import pandas and sqlite3.\n",
    "import pandas as pd\n",
    "import sqlite3\n",
    "\n",
    "#Connect to factbook.db and use pandas.read_sql_query() to return information on the tables in the database.\n",
    "conn=sqlite3.connect(\"factbook.db\")\n",
    "\n",
    "#Query 1 \n",
    "q1=\"SELECT * FROM sqlite_master WHERE type='table';\"\n",
    "\n",
    "#Return query 1 results in nested tuples (This table only shows first 3 rows)\n",
    "cursor=conn.cursor()\n",
    "conn.execute(q1).fetchall()\n",
    "\n"
   ]
  },
  {
   "cell_type": "code",
   "execution_count": 2,
   "metadata": {
    "collapsed": false
   },
   "outputs": [
    {
     "data": {
      "text/html": [
       "<div>\n",
       "<style scoped>\n",
       "    .dataframe tbody tr th:only-of-type {\n",
       "        vertical-align: middle;\n",
       "    }\n",
       "\n",
       "    .dataframe tbody tr th {\n",
       "        vertical-align: top;\n",
       "    }\n",
       "\n",
       "    .dataframe thead th {\n",
       "        text-align: right;\n",
       "    }\n",
       "</style>\n",
       "<table border=\"1\" class=\"dataframe\">\n",
       "  <thead>\n",
       "    <tr style=\"text-align: right;\">\n",
       "      <th></th>\n",
       "      <th>type</th>\n",
       "      <th>name</th>\n",
       "      <th>tbl_name</th>\n",
       "      <th>rootpage</th>\n",
       "      <th>sql</th>\n",
       "    </tr>\n",
       "  </thead>\n",
       "  <tbody>\n",
       "    <tr>\n",
       "      <th>0</th>\n",
       "      <td>table</td>\n",
       "      <td>sqlite_sequence</td>\n",
       "      <td>sqlite_sequence</td>\n",
       "      <td>3</td>\n",
       "      <td>CREATE TABLE sqlite_sequence(name,seq)</td>\n",
       "    </tr>\n",
       "    <tr>\n",
       "      <th>1</th>\n",
       "      <td>table</td>\n",
       "      <td>facts</td>\n",
       "      <td>facts</td>\n",
       "      <td>47</td>\n",
       "      <td>CREATE TABLE \"facts\" (\"id\" INTEGER PRIMARY KEY...</td>\n",
       "    </tr>\n",
       "  </tbody>\n",
       "</table>\n",
       "</div>"
      ],
      "text/plain": [
       "    type             name         tbl_name  rootpage  \\\n",
       "0  table  sqlite_sequence  sqlite_sequence         3   \n",
       "1  table            facts            facts        47   \n",
       "\n",
       "                                                 sql  \n",
       "0             CREATE TABLE sqlite_sequence(name,seq)  \n",
       "1  CREATE TABLE \"facts\" (\"id\" INTEGER PRIMARY KEY...  "
      ]
     },
     "execution_count": 2,
     "metadata": {},
     "output_type": "execute_result"
    }
   ],
   "source": [
    "#Return query 1 results in a table (This table only shows first 3 rows)\n",
    "pd.read_sql_query(q1,conn)"
   ]
  },
  {
   "cell_type": "code",
   "execution_count": 3,
   "metadata": {
    "collapsed": false
   },
   "outputs": [
    {
     "data": {
      "text/html": [
       "<div>\n",
       "<style scoped>\n",
       "    .dataframe tbody tr th:only-of-type {\n",
       "        vertical-align: middle;\n",
       "    }\n",
       "\n",
       "    .dataframe tbody tr th {\n",
       "        vertical-align: top;\n",
       "    }\n",
       "\n",
       "    .dataframe thead th {\n",
       "        text-align: right;\n",
       "    }\n",
       "</style>\n",
       "<table border=\"1\" class=\"dataframe\">\n",
       "  <thead>\n",
       "    <tr style=\"text-align: right;\">\n",
       "      <th></th>\n",
       "      <th>id</th>\n",
       "      <th>code</th>\n",
       "      <th>name</th>\n",
       "      <th>area</th>\n",
       "      <th>area_land</th>\n",
       "      <th>area_water</th>\n",
       "      <th>population</th>\n",
       "      <th>population_growth</th>\n",
       "      <th>birth_rate</th>\n",
       "      <th>death_rate</th>\n",
       "      <th>migration_rate</th>\n",
       "    </tr>\n",
       "  </thead>\n",
       "  <tbody>\n",
       "    <tr>\n",
       "      <th>0</th>\n",
       "      <td>1</td>\n",
       "      <td>af</td>\n",
       "      <td>Afghanistan</td>\n",
       "      <td>652230</td>\n",
       "      <td>652230</td>\n",
       "      <td>0</td>\n",
       "      <td>32564342</td>\n",
       "      <td>2.32</td>\n",
       "      <td>38.57</td>\n",
       "      <td>13.89</td>\n",
       "      <td>1.51</td>\n",
       "    </tr>\n",
       "    <tr>\n",
       "      <th>1</th>\n",
       "      <td>2</td>\n",
       "      <td>al</td>\n",
       "      <td>Albania</td>\n",
       "      <td>28748</td>\n",
       "      <td>27398</td>\n",
       "      <td>1350</td>\n",
       "      <td>3029278</td>\n",
       "      <td>0.30</td>\n",
       "      <td>12.92</td>\n",
       "      <td>6.58</td>\n",
       "      <td>3.30</td>\n",
       "    </tr>\n",
       "    <tr>\n",
       "      <th>2</th>\n",
       "      <td>3</td>\n",
       "      <td>ag</td>\n",
       "      <td>Algeria</td>\n",
       "      <td>2381741</td>\n",
       "      <td>2381741</td>\n",
       "      <td>0</td>\n",
       "      <td>39542166</td>\n",
       "      <td>1.84</td>\n",
       "      <td>23.67</td>\n",
       "      <td>4.31</td>\n",
       "      <td>0.92</td>\n",
       "    </tr>\n",
       "    <tr>\n",
       "      <th>3</th>\n",
       "      <td>4</td>\n",
       "      <td>an</td>\n",
       "      <td>Andorra</td>\n",
       "      <td>468</td>\n",
       "      <td>468</td>\n",
       "      <td>0</td>\n",
       "      <td>85580</td>\n",
       "      <td>0.12</td>\n",
       "      <td>8.13</td>\n",
       "      <td>6.96</td>\n",
       "      <td>0.00</td>\n",
       "    </tr>\n",
       "    <tr>\n",
       "      <th>4</th>\n",
       "      <td>5</td>\n",
       "      <td>ao</td>\n",
       "      <td>Angola</td>\n",
       "      <td>1246700</td>\n",
       "      <td>1246700</td>\n",
       "      <td>0</td>\n",
       "      <td>19625353</td>\n",
       "      <td>2.78</td>\n",
       "      <td>38.78</td>\n",
       "      <td>11.49</td>\n",
       "      <td>0.46</td>\n",
       "    </tr>\n",
       "  </tbody>\n",
       "</table>\n",
       "</div>"
      ],
      "text/plain": [
       "   id code         name     area  area_land  area_water  population  \\\n",
       "0   1   af  Afghanistan   652230     652230           0    32564342   \n",
       "1   2   al      Albania    28748      27398        1350     3029278   \n",
       "2   3   ag      Algeria  2381741    2381741           0    39542166   \n",
       "3   4   an      Andorra      468        468           0       85580   \n",
       "4   5   ao       Angola  1246700    1246700           0    19625353   \n",
       "\n",
       "   population_growth  birth_rate  death_rate  migration_rate  \n",
       "0               2.32       38.57       13.89            1.51  \n",
       "1               0.30       12.92        6.58            3.30  \n",
       "2               1.84       23.67        4.31            0.92  \n",
       "3               0.12        8.13        6.96            0.00  \n",
       "4               2.78       38.78       11.49            0.46  "
      ]
     },
     "execution_count": 3,
     "metadata": {},
     "output_type": "execute_result"
    }
   ],
   "source": [
    "#Query 2\n",
    "q2=\"SELECT * FROM facts LIMIT 5\"\n",
    "pd.read_sql_query(q2,conn)"
   ]
  },
  {
   "cell_type": "markdown",
   "metadata": {
    "collapsed": true
   },
   "source": [
    "## Summary Statistics"
   ]
  },
  {
   "cell_type": "code",
   "execution_count": 4,
   "metadata": {
    "collapsed": false
   },
   "outputs": [
    {
     "name": "stdout",
     "output_type": "stream",
     "text": [
      "   MIN(population)\n",
      "0                0\n",
      "   MAX(population)\n",
      "0       7256490011\n",
      "   MIN(population_growth)\n",
      "0                     0.0\n",
      "   MAX(population_growth)\n",
      "0                    4.02\n"
     ]
    }
   ],
   "source": [
    "# Query 3 Minimum Population\n",
    "q3=\"SELECT MIN(population) FROM facts\"\n",
    "\n",
    "# Query 4 Maximum Population\n",
    "q4=\"SELECT MAX(population) FROM facts\"\n",
    "\n",
    "# Query 5 Minimum population growth\n",
    "q5=\"SELECT MIN(population_growth) FROM facts\"\n",
    "\n",
    "# Query 6 Maximum population growth\n",
    "q6=\"SELECT MAX(population_growth) FROM facts\"\n",
    "\n",
    "q=[q3,q4,q5,q6]\n",
    "\n",
    "for i in q:\n",
    "    print(pd.read_sql_query(i,conn))"
   ]
  },
  {
   "cell_type": "markdown",
   "metadata": {},
   "source": [
    "## Exploring Outliers"
   ]
  },
  {
   "cell_type": "code",
   "execution_count": 5,
   "metadata": {
    "collapsed": false
   },
   "outputs": [
    {
     "name": "stdout",
     "output_type": "stream",
     "text": [
      "    id code        name  area  area_land area_water  population  \\\n",
      "0  250   ay  Antarctica  None     280000       None           0   \n",
      "\n",
      "  population_growth birth_rate death_rate migration_rate  \n",
      "0              None       None       None           None  \n",
      "    id code   name  area area_land area_water  population  population_growth  \\\n",
      "0  261   xx  World  None      None       None  7256490011               1.08   \n",
      "\n",
      "   birth_rate  death_rate migration_rate  \n",
      "0        18.6         7.8           None  \n"
     ]
    }
   ],
   "source": [
    "#Query 7 Return the countrie(s) with a population of 0\n",
    "q7=\"SELECT * FROM facts WHERE population=0\"\n",
    "print(pd.read_sql_query(q7,conn))\n",
    "\n",
    "#Query 8 Return the countrie(s) with a population of 7256490011\n",
    "q8=\"SELECT * FROM facts WHERE population=7256490011\"\n",
    "print(pd.read_sql_query(q8,conn))\n"
   ]
  },
  {
   "cell_type": "markdown",
   "metadata": {},
   "source": [
    "It seems like the table contains a row for the whole world, which explains the population of over 7.2 billion. It also seems like the table contains a row for Antarctica, which explains the population of 0. This seems to match the CIA Factbook page for Antarctica:"
   ]
  },
  {
   "cell_type": "markdown",
   "metadata": {},
   "source": [
    "## Histograms"
   ]
  },
  {
   "cell_type": "code",
   "execution_count": 6,
   "metadata": {
    "collapsed": false,
    "scrolled": false
   },
   "outputs": [
    {
     "data": {
      "image/png": "[encoded data removed]",
      "text/plain": [
       "<matplotlib.figure.Figure at 0x7f219895c940>"
      ]
     },
     "metadata": {},
     "output_type": "display_data"
    },
    {
     "data": {
      "image/png": "[encoded data removed]",
      "text/plain": [
       "<matplotlib.figure.Figure at 0x7f21f00bb898>"
      ]
     },
     "metadata": {},
     "output_type": "display_data"
    },
    {
     "data": {
      "image/png": "[encoded data removed]",
      "text/plain": [
       "<matplotlib.figure.Figure at 0x7f218cd29f98>"
      ]
     },
     "metadata": {},
     "output_type": "display_data"
    },
    {
     "data": {
      "image/png": "[encoded data removed]",
      "text/plain": [
       "<matplotlib.figure.Figure at 0x7f218cca4ef0>"
      ]
     },
     "metadata": {},
     "output_type": "display_data"
    }
   ],
   "source": [
    "#Import pyplot module\n",
    "import matplotlib.pyplot as plt\n",
    "import seaborn as sns\n",
    "\n",
    "#Displaying the plot in a Jupiter Notebook Cell\n",
    "%matplotlib inline\n",
    "\n",
    "#Generate a 2 by 2 grid of histograms\n",
    "histo={1:\"population\",2:\"population_growth\",3:\"birth_rate\",4:\"death_rate\"}\n",
    "\n",
    "for i,j in histo.items():\n",
    "    fig=plt.figure(figsize=(5,5))\n",
    "    ax=fig.add_subplot(2,2,i)    \n",
    "    q9=(\"SELECT \"+j+\" FROM facts WHERE population is not 0 AND population is not 725649011\")\n",
    "    pd.read_sql_query(q9,conn).hist(ax=ax)\n",
    "    plt.title(j)\n",
    "    plt.show()\n",
    "    #ax=pd.read_sql_query(q9,conn).hist()\n",
    "    #ax=pd.read_sql_query(q9,conn).plot(kind=\"hist\")\n",
    "\n",
    "# NO IDEA HOW TO MAKE A 2 BY 2 GRID???"
   ]
  },
  {
   "cell_type": "code",
   "execution_count": 7,
   "metadata": {
    "collapsed": false
   },
   "outputs": [
    {
     "name": "stderr",
     "output_type": "stream",
     "text": [
      "/dataquest/system/env/python3/lib/python3.4/site-packages/IPython/core/interactiveshell.py:2885: UserWarning: To output multiple subplots, the figure containing the passed axes is being cleared\n",
      "  exec(code_obj, self.user_global_ns, self.user_ns)\n"
     ]
    },
    {
     "data": {
      "text/plain": [
       "array([[<matplotlib.axes._subplots.AxesSubplot object at 0x7f218ccad668>,\n",
       "        <matplotlib.axes._subplots.AxesSubplot object at 0x7f218ccfa9e8>],\n",
       "       [<matplotlib.axes._subplots.AxesSubplot object at 0x7f218ce8a4a8>,\n",
       "        <matplotlib.axes._subplots.AxesSubplot object at 0x7f218cda8e10>]],\n",
       "      dtype=object)"
      ]
     },
     "execution_count": 7,
     "metadata": {},
     "output_type": "execute_result"
    },
    {
     "data": {
      "image/png": "[encoded data removed]",
      "text/plain": [
       "<matplotlib.figure.Figure at 0x7f219ea6b710>"
      ]
     },
     "metadata": {},
     "output_type": "display_data"
    }
   ],
   "source": [
    "import matplotlib.pyplot as plt\n",
    "import seaborn as sns\n",
    "%matplotlib inline\n",
    "\n",
    "fig = plt.figure(figsize=(10,10))\n",
    "ax = fig.add_subplot(111)\n",
    "\n",
    "q6 = '''\n",
    "select population, population_growth, birth_rate, death_rate\n",
    "from facts\n",
    "where population != (select max(population) from facts)\n",
    "and population != (select min(population) from facts);\n",
    "'''\n",
    "pd.read_sql_query(q6, conn).hist(ax=ax)"
   ]
  },
  {
   "cell_type": "markdown",
   "metadata": {
    "collapsed": true
   },
   "source": [
    "## Next Steps"
   ]
  },
  {
   "cell_type": "code",
   "execution_count": 10,
   "metadata": {
    "collapsed": false
   },
   "outputs": [
    {
     "name": "stdout",
     "output_type": "stream",
     "text": [
      "                                              name       density\n",
      "0                                            Macau  21168.964286\n",
      "1                                           Monaco  15267.500000\n",
      "2                                        Singapore   8141.279770\n",
      "3                                        Hong Kong   6445.041516\n",
      "4                                       Gaza Strip   5191.819444\n",
      "5                                        Gibraltar   4876.333333\n",
      "6                                          Bahrain   1771.859211\n",
      "7                                         Maldives   1319.640940\n",
      "8                                            Malta   1310.015823\n",
      "9                                          Bermuda   1299.925926\n",
      "10                                    Sint Maarten   1167.323529\n",
      "11                                      Bangladesh   1138.069143\n",
      "12                                        Guernsey    847.179487\n",
      "13                                          Jersey    838.741379\n",
      "14                                        Barbados    675.823256\n",
      "15                                       Mauritius    656.777941\n",
      "16                                          Taiwan    650.781712\n",
      "17                                           Aruba    623.122222\n",
      "18                                         Lebanon    594.682788\n",
      "19                                    Saint Martin    588.037037\n",
      "20                                      San Marino    541.311475\n",
      "21                                    Korea, South    492.531047\n",
      "22                                          Rwanda    480.740109\n",
      "23                                       West Bank    475.318430\n",
      "24                                           Nauru    454.285714\n",
      "25                                          Tuvalu    418.038462\n",
      "26                                     Netherlands    407.960523\n",
      "27                                Marshall Islands    398.845304\n",
      "28                                          Israel    387.545209\n",
      "29                                         Burundi    385.996263\n",
      "..                                             ...           ...\n",
      "231                                       Mongolia      1.913482\n",
      "232                               Pitcairn Islands      1.021277\n",
      "233              Falkland Islands (Islas Malvinas)      0.276103\n",
      "234                                       Svalbard      0.030172\n",
      "235                                      Greenland      0.026653\n",
      "236                                           Chad           NaN\n",
      "237                                          Niger           NaN\n",
      "238                        Holy See (Vatican City)           NaN\n",
      "239                    Ashmore and Cartier Islands           NaN\n",
      "240                              Coral Sea Islands           NaN\n",
      "241              Heard Island and McDonald Islands           NaN\n",
      "242                              Clipperton Island           NaN\n",
      "243            French Southern and Antarctic Lands           NaN\n",
      "244                               Saint Barthelemy           NaN\n",
      "245                                  Bouvet Island           NaN\n",
      "246                                      Jan Mayen           NaN\n",
      "247                 British Indian Ocean Territory           NaN\n",
      "248       South Georgia and South Sandwich Islands           NaN\n",
      "249                                 Navassa Island           NaN\n",
      "250                                    Wake Island           NaN\n",
      "251  United States Pacific Island Wildlife Refuges           NaN\n",
      "252                                     Antarctica           NaN\n",
      "253                                Paracel Islands           NaN\n",
      "254                                Spratly Islands           NaN\n",
      "255                                   Arctic Ocean           NaN\n",
      "256                                 Atlantic Ocean           NaN\n",
      "257                                   Indian Ocean           NaN\n",
      "258                                  Pacific Ocean           NaN\n",
      "259                                 Southern Ocean           NaN\n",
      "260                                          World           NaN\n",
      "\n",
      "[261 rows x 2 columns]\n"
     ]
    }
   ],
   "source": [
    "#Which countries have the highest population density?\n",
    "q10=\"SELECT name,cast(population as float)/cast(area as float) AS density FROM facts ORDER BY density DESC\"\n",
    "print(pd.read_sql_query(q10,conn))"
   ]
  },
  {
   "cell_type": "code",
   "execution_count": 11,
   "metadata": {
    "collapsed": false
   },
   "outputs": [
    {
     "data": {
      "text/plain": [
       "array([[<matplotlib.axes._subplots.AxesSubplot object at 0x7f218cb20128>]],\n",
       "      dtype=object)"
      ]
     },
     "execution_count": 11,
     "metadata": {},
     "output_type": "execute_result"
    },
    {
     "data": {
      "image/png": "[encoded data removed]",
      "text/plain": [
       "<matplotlib.figure.Figure at 0x7f218c888b00>"
      ]
     },
     "metadata": {},
     "output_type": "display_data"
    }
   ],
   "source": [
    "#Generate a histogram of population densities\n",
    "q11=\"SELECT cast(population as float)/cast(area as float) AS density FROM facts WHERE population is not 0 AND population is not \"\n",
    "pd.read_sql_query(q10,conn).hist()"
   ]
  },
  {
   "cell_type": "code",
   "execution_count": null,
   "metadata": {
    "collapsed": true
   },
   "outputs": [],
   "source": []
  }
 ],
 "metadata": {
  "kernelspec": {
   "display_name": "Python 3",
   "language": "python",
   "name": "python3"
  },
  "language_info": {
   "codemirror_mode": {
    "name": "ipython",
    "version": 3
   },
   "file_extension": ".py",
   "mimetype": "text/x-python",
   "name": "python",
   "nbconvert_exporter": "python",
   "pygments_lexer": "ipython3",
   "version": "3.4.3"
  }
 },
 "nbformat": 4,
 "nbformat_minor": 2
}
