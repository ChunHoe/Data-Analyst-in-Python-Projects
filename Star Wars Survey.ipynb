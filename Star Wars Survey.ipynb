{
 "cells": [
  {
   "cell_type": "markdown",
   "metadata": {
    "collapsed": true
   },
   "source": [
    "# Guided Project: Star Wars Survey"
   ]
  },
  {
   "cell_type": "markdown",
   "metadata": {},
   "source": [
    "## Overview 2/9"
   ]
  },
  {
   "cell_type": "code",
   "execution_count": 1,
   "metadata": {
    "collapsed": false
   },
   "outputs": [
    {
     "name": "stdout",
     "output_type": "stream",
     "text": [
      "   RespondentID Have you seen any of the 6 films in the Star Wars franchise?  \\\n",
      "0           NaN                                           Response             \n",
      "1  3.292880e+09                                                Yes             \n",
      "2  3.292880e+09                                                 No             \n",
      "3  3.292765e+09                                                Yes             \n",
      "4  3.292763e+09                                                Yes             \n",
      "5  3.292731e+09                                                Yes             \n",
      "6  3.292719e+09                                                Yes             \n",
      "7  3.292685e+09                                                Yes             \n",
      "8  3.292664e+09                                                Yes             \n",
      "9  3.292654e+09                                                Yes             \n",
      "\n",
      "  Do you consider yourself to be a fan of the Star Wars film franchise?  \\\n",
      "0                                           Response                      \n",
      "1                                                Yes                      \n",
      "2                                                NaN                      \n",
      "3                                                 No                      \n",
      "4                                                Yes                      \n",
      "5                                                Yes                      \n",
      "6                                                Yes                      \n",
      "7                                                Yes                      \n",
      "8                                                Yes                      \n",
      "9                                                Yes                      \n",
      "\n",
      "  Which of the following Star Wars films have you seen? Please select all that apply.  \\\n",
      "0           Star Wars: Episode I  The Phantom Menace                                    \n",
      "1           Star Wars: Episode I  The Phantom Menace                                    \n",
      "2                                                NaN                                    \n",
      "3           Star Wars: Episode I  The Phantom Menace                                    \n",
      "4           Star Wars: Episode I  The Phantom Menace                                    \n",
      "5           Star Wars: Episode I  The Phantom Menace                                    \n",
      "6           Star Wars: Episode I  The Phantom Menace                                    \n",
      "7           Star Wars: Episode I  The Phantom Menace                                    \n",
      "8           Star Wars: Episode I  The Phantom Menace                                    \n",
      "9           Star Wars: Episode I  The Phantom Menace                                    \n",
      "\n",
      "                                    Unnamed: 4  \\\n",
      "0  Star Wars: Episode II  Attack of the Clones   \n",
      "1  Star Wars: Episode II  Attack of the Clones   \n",
      "2                                          NaN   \n",
      "3  Star Wars: Episode II  Attack of the Clones   \n",
      "4  Star Wars: Episode II  Attack of the Clones   \n",
      "5  Star Wars: Episode II  Attack of the Clones   \n",
      "6  Star Wars: Episode II  Attack of the Clones   \n",
      "7  Star Wars: Episode II  Attack of the Clones   \n",
      "8  Star Wars: Episode II  Attack of the Clones   \n",
      "9  Star Wars: Episode II  Attack of the Clones   \n",
      "\n",
      "                                    Unnamed: 5  \\\n",
      "0  Star Wars: Episode III  Revenge of the Sith   \n",
      "1  Star Wars: Episode III  Revenge of the Sith   \n",
      "2                                          NaN   \n",
      "3  Star Wars: Episode III  Revenge of the Sith   \n",
      "4  Star Wars: Episode III  Revenge of the Sith   \n",
      "5  Star Wars: Episode III  Revenge of the Sith   \n",
      "6  Star Wars: Episode III  Revenge of the Sith   \n",
      "7  Star Wars: Episode III  Revenge of the Sith   \n",
      "8  Star Wars: Episode III  Revenge of the Sith   \n",
      "9  Star Wars: Episode III  Revenge of the Sith   \n",
      "\n",
      "                          Unnamed: 6  \\\n",
      "0  Star Wars: Episode IV  A New Hope   \n",
      "1  Star Wars: Episode IV  A New Hope   \n",
      "2                                NaN   \n",
      "3                                NaN   \n",
      "4  Star Wars: Episode IV  A New Hope   \n",
      "5  Star Wars: Episode IV  A New Hope   \n",
      "6  Star Wars: Episode IV  A New Hope   \n",
      "7  Star Wars: Episode IV  A New Hope   \n",
      "8  Star Wars: Episode IV  A New Hope   \n",
      "9  Star Wars: Episode IV  A New Hope   \n",
      "\n",
      "                                     Unnamed: 7  \\\n",
      "0  Star Wars: Episode V The Empire Strikes Back   \n",
      "1  Star Wars: Episode V The Empire Strikes Back   \n",
      "2                                           NaN   \n",
      "3                                           NaN   \n",
      "4  Star Wars: Episode V The Empire Strikes Back   \n",
      "5  Star Wars: Episode V The Empire Strikes Back   \n",
      "6  Star Wars: Episode V The Empire Strikes Back   \n",
      "7  Star Wars: Episode V The Empire Strikes Back   \n",
      "8  Star Wars: Episode V The Empire Strikes Back   \n",
      "9  Star Wars: Episode V The Empire Strikes Back   \n",
      "\n",
      "                                 Unnamed: 8  \\\n",
      "0  Star Wars: Episode VI Return of the Jedi   \n",
      "1  Star Wars: Episode VI Return of the Jedi   \n",
      "2                                       NaN   \n",
      "3                                       NaN   \n",
      "4  Star Wars: Episode VI Return of the Jedi   \n",
      "5  Star Wars: Episode VI Return of the Jedi   \n",
      "6  Star Wars: Episode VI Return of the Jedi   \n",
      "7  Star Wars: Episode VI Return of the Jedi   \n",
      "8  Star Wars: Episode VI Return of the Jedi   \n",
      "9  Star Wars: Episode VI Return of the Jedi   \n",
      "\n",
      "  Please rank the Star Wars films in order of preference with 1 being your favorite film in the franchise and 6 being your least favorite film.  \\\n",
      "0           Star Wars: Episode I  The Phantom Menace                                                                                              \n",
      "1                                                  3                                                                                              \n",
      "2                                                NaN                                                                                              \n",
      "3                                                  1                                                                                              \n",
      "4                                                  5                                                                                              \n",
      "5                                                  5                                                                                              \n",
      "6                                                  1                                                                                              \n",
      "7                                                  6                                                                                              \n",
      "8                                                  4                                                                                              \n",
      "9                                                  5                                                                                              \n",
      "\n",
      "            ...                    Unnamed: 28  \\\n",
      "0           ...                           Yoda   \n",
      "1           ...                 Very favorably   \n",
      "2           ...                            NaN   \n",
      "3           ...               Unfamiliar (N/A)   \n",
      "4           ...                 Very favorably   \n",
      "5           ...             Somewhat favorably   \n",
      "6           ...                 Very favorably   \n",
      "7           ...                 Very favorably   \n",
      "8           ...                 Very favorably   \n",
      "9           ...             Somewhat favorably   \n",
      "\n",
      "        Which character shot first?  \\\n",
      "0                          Response   \n",
      "1  I don't understand this question   \n",
      "2                               NaN   \n",
      "3  I don't understand this question   \n",
      "4  I don't understand this question   \n",
      "5                            Greedo   \n",
      "6                               Han   \n",
      "7                               Han   \n",
      "8                               Han   \n",
      "9                               Han   \n",
      "\n",
      "  Are you familiar with the Expanded Universe?  \\\n",
      "0                                     Response   \n",
      "1                                          Yes   \n",
      "2                                          NaN   \n",
      "3                                           No   \n",
      "4                                           No   \n",
      "5                                          Yes   \n",
      "6                                          Yes   \n",
      "7                                          Yes   \n",
      "8                                           No   \n",
      "9                                           No   \n",
      "\n",
      "  Do you consider yourself to be a fan of the Expanded Universe?ÂÃ¦  \\\n",
      "0                                           Response                   \n",
      "1                                                 No                   \n",
      "2                                                NaN                   \n",
      "3                                                NaN                   \n",
      "4                                                NaN                   \n",
      "5                                                 No                   \n",
      "6                                                 No                   \n",
      "7                                                 No                   \n",
      "8                                                NaN                   \n",
      "9                                                NaN                   \n",
      "\n",
      "  Do you consider yourself to be a fan of the Star Trek franchise?    Gender  \\\n",
      "0                                           Response                Response   \n",
      "1                                                 No                    Male   \n",
      "2                                                Yes                    Male   \n",
      "3                                                 No                    Male   \n",
      "4                                                Yes                    Male   \n",
      "5                                                 No                    Male   \n",
      "6                                                Yes                    Male   \n",
      "7                                                 No                    Male   \n",
      "8                                                Yes                    Male   \n",
      "9                                                 No                    Male   \n",
      "\n",
      "        Age     Household Income                         Education  \\\n",
      "0  Response             Response                          Response   \n",
      "1     18-29                  NaN                High school degree   \n",
      "2     18-29         $0 - $24,999                   Bachelor degree   \n",
      "3     18-29         $0 - $24,999                High school degree   \n",
      "4     18-29  $100,000 - $149,999  Some college or Associate degree   \n",
      "5     18-29  $100,000 - $149,999  Some college or Associate degree   \n",
      "6     18-29    $25,000 - $49,999                   Bachelor degree   \n",
      "7     18-29                  NaN                High school degree   \n",
      "8     18-29                  NaN                High school degree   \n",
      "9     18-29         $0 - $24,999  Some college or Associate degree   \n",
      "\n",
      "  Location (Census Region)  \n",
      "0                 Response  \n",
      "1           South Atlantic  \n",
      "2       West South Central  \n",
      "3       West North Central  \n",
      "4       West North Central  \n",
      "5       West North Central  \n",
      "6          Middle Atlantic  \n",
      "7       East North Central  \n",
      "8           South Atlantic  \n",
      "9           South Atlantic  \n",
      "\n",
      "[10 rows x 38 columns]\n"
     ]
    }
   ],
   "source": [
    "#Read the data set into a dataframe.\n",
    "import pandas as pd\n",
    "import numpy\n",
    "star_wars=pd.read_csv(\"star_wars.csv\",encoding=\"ISO-8859-1\")\n",
    "\n",
    "#Explore the data by entering star_wars.head(10). Look for any strange values in the columns and rows.\n",
    "print(star_wars.head(10))"
   ]
  },
  {
   "cell_type": "code",
   "execution_count": 2,
   "metadata": {
    "collapsed": false
   },
   "outputs": [
    {
     "data": {
      "text/plain": [
       "Index(['RespondentID',\n",
       "       'Have you seen any of the 6 films in the Star Wars franchise?',\n",
       "       'Do you consider yourself to be a fan of the Star Wars film franchise?',\n",
       "       'Which of the following Star Wars films have you seen? Please select all that apply.',\n",
       "       'Unnamed: 4', 'Unnamed: 5', 'Unnamed: 6', 'Unnamed: 7', 'Unnamed: 8',\n",
       "       'Please rank the Star Wars films in order of preference with 1 being your favorite film in the franchise and 6 being your least favorite film.',\n",
       "       'Unnamed: 10', 'Unnamed: 11', 'Unnamed: 12', 'Unnamed: 13',\n",
       "       'Unnamed: 14',\n",
       "       'Please state whether you view the following characters favorably, unfavorably, or are unfamiliar with him/her.',\n",
       "       'Unnamed: 16', 'Unnamed: 17', 'Unnamed: 18', 'Unnamed: 19',\n",
       "       'Unnamed: 20', 'Unnamed: 21', 'Unnamed: 22', 'Unnamed: 23',\n",
       "       'Unnamed: 24', 'Unnamed: 25', 'Unnamed: 26', 'Unnamed: 27',\n",
       "       'Unnamed: 28', 'Which character shot first?',\n",
       "       'Are you familiar with the Expanded Universe?',\n",
       "       'Do you consider yourself to be a fan of the Expanded Universe?ÂÃ¦',\n",
       "       'Do you consider yourself to be a fan of the Star Trek franchise?',\n",
       "       'Gender', 'Age', 'Household Income', 'Education',\n",
       "       'Location (Census Region)'],\n",
       "      dtype='object')"
      ]
     },
     "execution_count": 2,
     "metadata": {},
     "output_type": "execute_result"
    }
   ],
   "source": [
    "#Review the column names with star_wars.columns.\n",
    "star_wars.columns"
   ]
  },
  {
   "cell_type": "code",
   "execution_count": 3,
   "metadata": {
    "collapsed": false
   },
   "outputs": [
    {
     "name": "stdout",
     "output_type": "stream",
     "text": [
      " 3.291092e+09    1\n",
      " 3.290409e+09    1\n",
      " 3.290347e+09    1\n",
      " 3.290351e+09    1\n",
      " 3.288558e+09    1\n",
      " 3.290360e+09    1\n",
      " 3.290365e+09    1\n",
      " 3.290372e+09    1\n",
      " 3.290375e+09    1\n",
      " 3.290380e+09    1\n",
      " 3.290387e+09    1\n",
      " 3.290399e+09    1\n",
      " 3.291392e+09    1\n",
      " 3.290402e+09    1\n",
      " 3.290409e+09    1\n",
      " 3.290412e+09    1\n",
      " 3.290418e+09    1\n",
      " 3.290345e+09    1\n",
      " 3.290337e+09    1\n",
      " 3.289919e+09    1\n",
      " 3.290330e+09    1\n",
      " 3.290263e+09    1\n",
      " 3.290266e+09    1\n",
      " 3.290407e+09    1\n",
      " 3.290280e+09    1\n",
      " 3.290662e+09    1\n",
      " 3.290287e+09    1\n",
      " 3.290289e+09    1\n",
      " 3.290296e+09    1\n",
      " 3.290298e+09    1\n",
      "                ..\n",
      " 3.288591e+09    1\n",
      " 3.290655e+09    1\n",
      " 3.292719e+09    1\n",
      " 3.289446e+09    1\n",
      " 3.292731e+09    1\n",
      " 3.290597e+09    1\n",
      " 3.289532e+09    1\n",
      " 3.291023e+09    1\n",
      " 3.292765e+09    1\n",
      " 3.289986e+09    1\n",
      " 3.289598e+09    1\n",
      " 3.290651e+09    1\n",
      " 3.292664e+09    1\n",
      " 3.292654e+09    1\n",
      " 3.292581e+09    1\n",
      " 3.289553e+09    1\n",
      " 3.289726e+09    1\n",
      " 3.288640e+09    1\n",
      " 3.292565e+09    1\n",
      " 3.290639e+09    1\n",
      " 3.292573e+09    1\n",
      " 3.292583e+09    1\n",
      " 3.292640e+09    1\n",
      " 3.292587e+09    1\n",
      " 3.292597e+09    1\n",
      " 3.292609e+09    1\n",
      " 3.288423e+09    1\n",
      " 3.292635e+09    1\n",
      " 3.292638e+09    1\n",
      "NaN              1\n",
      "Name: RespondentID, Length: 1187, dtype: int64\n",
      "(1187, 38)\n",
      "(1186, 38)\n"
     ]
    }
   ],
   "source": [
    "#Remove any rows where RespondentID is NaN.\n",
    "print(star_wars[\"RespondentID\"].value_counts(sort=True,dropna=False))\n",
    "\n",
    "#Check before removal\n",
    "print(star_wars.shape)\n",
    "\n",
    "#Remove\n",
    "star_wars=star_wars[star_wars[\"RespondentID\"].notnull()]\n",
    "\n",
    "#Check after removal\n",
    "print(star_wars.shape)"
   ]
  },
  {
   "cell_type": "markdown",
   "metadata": {
    "collapsed": true
   },
   "source": [
    "## Cleaning and Mapping Yes/No Columns"
   ]
  },
  {
   "cell_type": "code",
   "execution_count": 4,
   "metadata": {
    "collapsed": false
   },
   "outputs": [
    {
     "name": "stdout",
     "output_type": "stream",
     "text": [
      "Yes    936\n",
      "No     250\n",
      "Name: Have you seen any of the 6 films in the Star Wars franchise?, dtype: int64\n",
      "True     936\n",
      "False    250\n",
      "Name: Have you seen any of the 6 films in the Star Wars franchise?, dtype: int64\n"
     ]
    }
   ],
   "source": [
    "#Convert the Have you seen any of the 6 films in the Star Wars franchise? column to the Boolean type.\n",
    "print(star_wars[\"Have you seen any of the 6 films in the Star Wars franchise?\"].value_counts(dropna=False))\n",
    "\n",
    "#Define mapping for conversion\n",
    "yes_no={\n",
    "    \"Yes\":True,\n",
    "    \"No\":False\n",
    "}\n",
    "\n",
    "#Convert \n",
    "star_wars[\"Have you seen any of the 6 films in the Star Wars franchise?\"]=star_wars[\"Have you seen any of the 6 films in the Star Wars franchise?\"].map(yes_no)\n",
    "\n",
    "#Check conversion\n",
    "print(star_wars[\"Have you seen any of the 6 films in the Star Wars franchise?\"].value_counts(dropna=False))"
   ]
  },
  {
   "cell_type": "code",
   "execution_count": 5,
   "metadata": {
    "collapsed": false
   },
   "outputs": [
    {
     "name": "stdout",
     "output_type": "stream",
     "text": [
      "Yes    552\n",
      "NaN    350\n",
      "No     284\n",
      "Name: Do you consider yourself to be a fan of the Star Wars film franchise?, dtype: int64\n",
      "True     552\n",
      "NaN      350\n",
      "False    284\n",
      "Name: Do you consider yourself to be a fan of the Star Wars film franchise?, dtype: int64\n"
     ]
    }
   ],
   "source": [
    "#Convert the Do you consider yourself to be a fan of the Star Wars film franchise? column to the Boolean type.\n",
    "print(star_wars[\"Do you consider yourself to be a fan of the Star Wars film franchise?\"].value_counts(dropna=False))\n",
    "\n",
    "#Convert\n",
    "star_wars[\"Do you consider yourself to be a fan of the Star Wars film franchise?\"]=star_wars[\"Do you consider yourself to be a fan of the Star Wars film franchise?\"].map(yes_no)\n",
    "\n",
    "#Check Conversion\n",
    "print(star_wars[\"Do you consider yourself to be a fan of the Star Wars film franchise?\"].value_counts(dropna=False))"
   ]
  },
  {
   "cell_type": "markdown",
   "metadata": {},
   "source": [
    "## Cleaning and Mapping Checkbox Columns"
   ]
  },
  {
   "cell_type": "code",
   "execution_count": 6,
   "metadata": {
    "collapsed": false
   },
   "outputs": [
    {
     "data": {
      "text/plain": [
       "Index(['Which of the following Star Wars films have you seen? Please select all that apply.',\n",
       "       'Unnamed: 4', 'Unnamed: 5', 'Unnamed: 6', 'Unnamed: 7', 'Unnamed: 8'],\n",
       "      dtype='object')"
      ]
     },
     "execution_count": 6,
     "metadata": {},
     "output_type": "execute_result"
    }
   ],
   "source": [
    "#Convert each column above so that it only contains the values True and False.\n",
    "star_wars.columns[3:9]"
   ]
  },
  {
   "cell_type": "code",
   "execution_count": 7,
   "metadata": {
    "collapsed": false
   },
   "outputs": [
    {
     "name": "stdout",
     "output_type": "stream",
     "text": [
      "['Star Wars: Episode I  The Phantom Menace' nan]\n",
      "['Star Wars: Episode II  Attack of the Clones' nan]\n",
      "['Star Wars: Episode III  Revenge of the Sith' nan]\n",
      "['Star Wars: Episode IV  A New Hope' nan]\n",
      "['Star Wars: Episode V The Empire Strikes Back' nan]\n",
      "['Star Wars: Episode VI Return of the Jedi' nan]\n"
     ]
    }
   ],
   "source": [
    "#Check unique values before conversion\n",
    "column_name=star_wars.columns[3:9]\n",
    "\n",
    "for i in column_name:\n",
    "    print(star_wars[i].unique())"
   ]
  },
  {
   "cell_type": "code",
   "execution_count": 8,
   "metadata": {
    "collapsed": false
   },
   "outputs": [],
   "source": [
    "#Define mapping for conversion\n",
    "seen_no={\n",
    "    'Star Wars: Episode I  The Phantom Menace':True,\n",
    "    'Star Wars: Episode II  Attack of the Clones':True,\n",
    "    'Star Wars: Episode III  Revenge of the Sith':True,\n",
    "    'Star Wars: Episode IV  A New Hope':True,\n",
    "    'Star Wars: Episode V The Empire Strikes Back':True,\n",
    "    'Star Wars: Episode VI Return of the Jedi':True,\n",
    "    numpy.NaN:False\n",
    "}\n",
    "\n",
    "#Convert Columns\n",
    "for i in column_name:\n",
    "    star_wars[i]=star_wars[i].map(seen_no)"
   ]
  },
  {
   "cell_type": "code",
   "execution_count": 9,
   "metadata": {
    "collapsed": false
   },
   "outputs": [
    {
     "name": "stdout",
     "output_type": "stream",
     "text": [
      "[ True False]\n",
      "[ True False]\n",
      "[ True False]\n",
      "[ True False]\n",
      "[ True False]\n",
      "[ True False]\n"
     ]
    }
   ],
   "source": [
    "#Check unique values after conversion\n",
    "for i in column_name:\n",
    "    print(star_wars[i].unique())"
   ]
  },
  {
   "cell_type": "code",
   "execution_count": 10,
   "metadata": {
    "collapsed": false
   },
   "outputs": [
    {
     "name": "stdout",
     "output_type": "stream",
     "text": [
      "Index(['RespondentID',\n",
      "       'Have you seen any of the 6 films in the Star Wars franchise?',\n",
      "       'Do you consider yourself to be a fan of the Star Wars film franchise?',\n",
      "       'Which of the following Star Wars films have you seen? Please select all that apply.',\n",
      "       'Unnamed: 4', 'Unnamed: 5', 'Unnamed: 6', 'Unnamed: 7', 'Unnamed: 8',\n",
      "       'Please rank the Star Wars films in order of preference with 1 being your favorite film in the franchise and 6 being your least favorite film.',\n",
      "       'Unnamed: 10', 'Unnamed: 11', 'Unnamed: 12', 'Unnamed: 13',\n",
      "       'Unnamed: 14',\n",
      "       'Please state whether you view the following characters favorably, unfavorably, or are unfamiliar with him/her.',\n",
      "       'Unnamed: 16', 'Unnamed: 17', 'Unnamed: 18', 'Unnamed: 19',\n",
      "       'Unnamed: 20', 'Unnamed: 21', 'Unnamed: 22', 'Unnamed: 23',\n",
      "       'Unnamed: 24', 'Unnamed: 25', 'Unnamed: 26', 'Unnamed: 27',\n",
      "       'Unnamed: 28', 'Which character shot first?',\n",
      "       'Are you familiar with the Expanded Universe?',\n",
      "       'Do you consider yourself to be a fan of the Expanded Universe?ÂÃ¦',\n",
      "       'Do you consider yourself to be a fan of the Star Trek franchise?',\n",
      "       'Gender', 'Age', 'Household Income', 'Education',\n",
      "       'Location (Census Region)'],\n",
      "      dtype='object')\n",
      "Index(['RespondentID',\n",
      "       'Have you seen any of the 6 films in the Star Wars franchise?',\n",
      "       'Do you consider yourself to be a fan of the Star Wars film franchise?',\n",
      "       'seen_1', 'seen_2', 'seen_3', 'seen_4', 'seen_5', 'seen_6',\n",
      "       'Please rank the Star Wars films in order of preference with 1 being your favorite film in the franchise and 6 being your least favorite film.',\n",
      "       'Unnamed: 10', 'Unnamed: 11', 'Unnamed: 12', 'Unnamed: 13',\n",
      "       'Unnamed: 14',\n",
      "       'Please state whether you view the following characters favorably, unfavorably, or are unfamiliar with him/her.',\n",
      "       'Unnamed: 16', 'Unnamed: 17', 'Unnamed: 18', 'Unnamed: 19',\n",
      "       'Unnamed: 20', 'Unnamed: 21', 'Unnamed: 22', 'Unnamed: 23',\n",
      "       'Unnamed: 24', 'Unnamed: 25', 'Unnamed: 26', 'Unnamed: 27',\n",
      "       'Unnamed: 28', 'Which character shot first?',\n",
      "       'Are you familiar with the Expanded Universe?',\n",
      "       'Do you consider yourself to be a fan of the Expanded Universe?ÂÃ¦',\n",
      "       'Do you consider yourself to be a fan of the Star Trek franchise?',\n",
      "       'Gender', 'Age', 'Household Income', 'Education',\n",
      "       'Location (Census Region)'],\n",
      "      dtype='object')\n"
     ]
    }
   ],
   "source": [
    "#Print current column names\n",
    "print(star_wars.columns)\n",
    "\n",
    "#Rename\n",
    "star_wars=star_wars.rename(columns={\n",
    "    \"Which of the following Star Wars films have you seen? Please select all that apply.\": \"seen_1\",\n",
    "    'Unnamed: 4':\"seen_2\",\n",
    "    'Unnamed: 5':\"seen_3\",\n",
    "    'Unnamed: 6':\"seen_4\",\n",
    "    'Unnamed: 7':\"seen_5\",\n",
    "    'Unnamed: 8':\"seen_6\",    \n",
    "})\n",
    "\n",
    "#Print changes column names\n",
    "print(star_wars.columns)"
   ]
  },
  {
   "cell_type": "code",
   "execution_count": 11,
   "metadata": {
    "collapsed": false
   },
   "outputs": [
    {
     "name": "stdout",
     "output_type": "stream",
     "text": [
      "[ True False]\n",
      "[ True False]\n",
      "[ True False]\n",
      "[ True False]\n",
      "[ True False]\n",
      "[ True False]\n"
     ]
    }
   ],
   "source": [
    "for i in range(6):\n",
    "    print(star_wars[\"seen_\"+str(i+1)].unique())"
   ]
  },
  {
   "cell_type": "markdown",
   "metadata": {},
   "source": [
    "## Cleaning the Ranking Columns"
   ]
  },
  {
   "cell_type": "code",
   "execution_count": 12,
   "metadata": {
    "collapsed": false
   },
   "outputs": [
    {
     "name": "stdout",
     "output_type": "stream",
     "text": [
      "<class 'pandas.core.frame.DataFrame'>\n",
      "Int64Index: 1186 entries, 1 to 1186\n",
      "Data columns (total 38 columns):\n",
      "RespondentID                                                                                                                                     1186 non-null float64\n",
      "Have you seen any of the 6 films in the Star Wars franchise?                                                                                     1186 non-null bool\n",
      "Do you consider yourself to be a fan of the Star Wars film franchise?                                                                            836 non-null object\n",
      "seen_1                                                                                                                                           1186 non-null bool\n",
      "seen_2                                                                                                                                           1186 non-null bool\n",
      "seen_3                                                                                                                                           1186 non-null bool\n",
      "seen_4                                                                                                                                           1186 non-null bool\n",
      "seen_5                                                                                                                                           1186 non-null bool\n",
      "seen_6                                                                                                                                           1186 non-null bool\n",
      "Please rank the Star Wars films in order of preference with 1 being your favorite film in the franchise and 6 being your least favorite film.    835 non-null object\n",
      "Unnamed: 10                                                                                                                                      836 non-null object\n",
      "Unnamed: 11                                                                                                                                      835 non-null object\n",
      "Unnamed: 12                                                                                                                                      836 non-null object\n",
      "Unnamed: 13                                                                                                                                      836 non-null object\n",
      "Unnamed: 14                                                                                                                                      836 non-null object\n",
      "Please state whether you view the following characters favorably, unfavorably, or are unfamiliar with him/her.                                   829 non-null object\n",
      "Unnamed: 16                                                                                                                                      831 non-null object\n",
      "Unnamed: 17                                                                                                                                      831 non-null object\n",
      "Unnamed: 18                                                                                                                                      823 non-null object\n",
      "Unnamed: 19                                                                                                                                      825 non-null object\n",
      "Unnamed: 20                                                                                                                                      814 non-null object\n",
      "Unnamed: 21                                                                                                                                      826 non-null object\n",
      "Unnamed: 22                                                                                                                                      820 non-null object\n",
      "Unnamed: 23                                                                                                                                      812 non-null object\n",
      "Unnamed: 24                                                                                                                                      827 non-null object\n",
      "Unnamed: 25                                                                                                                                      830 non-null object\n",
      "Unnamed: 26                                                                                                                                      821 non-null object\n",
      "Unnamed: 27                                                                                                                                      814 non-null object\n",
      "Unnamed: 28                                                                                                                                      826 non-null object\n",
      "Which character shot first?                                                                                                                      828 non-null object\n",
      "Are you familiar with the Expanded Universe?                                                                                                     828 non-null object\n",
      "Do you consider yourself to be a fan of the Expanded Universe?ÂÃ¦                                                                               213 non-null object\n",
      "Do you consider yourself to be a fan of the Star Trek franchise?                                                                                 1068 non-null object\n",
      "Gender                                                                                                                                           1046 non-null object\n",
      "Age                                                                                                                                              1046 non-null object\n",
      "Household Income                                                                                                                                 858 non-null object\n",
      "Education                                                                                                                                        1036 non-null object\n",
      "Location (Census Region)                                                                                                                         1043 non-null object\n",
      "dtypes: bool(7), float64(1), object(30)\n",
      "memory usage: 304.6+ KB\n",
      "None\n",
      "<class 'pandas.core.frame.DataFrame'>\n",
      "Int64Index: 1186 entries, 1 to 1186\n",
      "Data columns (total 38 columns):\n",
      "RespondentID                                                                                                                                     1186 non-null float64\n",
      "Have you seen any of the 6 films in the Star Wars franchise?                                                                                     1186 non-null bool\n",
      "Do you consider yourself to be a fan of the Star Wars film franchise?                                                                            836 non-null object\n",
      "seen_1                                                                                                                                           1186 non-null bool\n",
      "seen_2                                                                                                                                           1186 non-null bool\n",
      "seen_3                                                                                                                                           1186 non-null bool\n",
      "seen_4                                                                                                                                           1186 non-null bool\n",
      "seen_5                                                                                                                                           1186 non-null bool\n",
      "seen_6                                                                                                                                           1186 non-null bool\n",
      "Please rank the Star Wars films in order of preference with 1 being your favorite film in the franchise and 6 being your least favorite film.    835 non-null float64\n",
      "Unnamed: 10                                                                                                                                      836 non-null float64\n",
      "Unnamed: 11                                                                                                                                      835 non-null float64\n",
      "Unnamed: 12                                                                                                                                      836 non-null float64\n",
      "Unnamed: 13                                                                                                                                      836 non-null float64\n",
      "Unnamed: 14                                                                                                                                      836 non-null float64\n",
      "Please state whether you view the following characters favorably, unfavorably, or are unfamiliar with him/her.                                   829 non-null object\n",
      "Unnamed: 16                                                                                                                                      831 non-null object\n",
      "Unnamed: 17                                                                                                                                      831 non-null object\n",
      "Unnamed: 18                                                                                                                                      823 non-null object\n",
      "Unnamed: 19                                                                                                                                      825 non-null object\n",
      "Unnamed: 20                                                                                                                                      814 non-null object\n",
      "Unnamed: 21                                                                                                                                      826 non-null object\n",
      "Unnamed: 22                                                                                                                                      820 non-null object\n",
      "Unnamed: 23                                                                                                                                      812 non-null object\n",
      "Unnamed: 24                                                                                                                                      827 non-null object\n",
      "Unnamed: 25                                                                                                                                      830 non-null object\n",
      "Unnamed: 26                                                                                                                                      821 non-null object\n",
      "Unnamed: 27                                                                                                                                      814 non-null object\n",
      "Unnamed: 28                                                                                                                                      826 non-null object\n",
      "Which character shot first?                                                                                                                      828 non-null object\n",
      "Are you familiar with the Expanded Universe?                                                                                                     828 non-null object\n",
      "Do you consider yourself to be a fan of the Expanded Universe?ÂÃ¦                                                                               213 non-null object\n",
      "Do you consider yourself to be a fan of the Star Trek franchise?                                                                                 1068 non-null object\n",
      "Gender                                                                                                                                           1046 non-null object\n",
      "Age                                                                                                                                              1046 non-null object\n",
      "Household Income                                                                                                                                 858 non-null object\n",
      "Education                                                                                                                                        1036 non-null object\n",
      "Location (Census Region)                                                                                                                         1043 non-null object\n",
      "dtypes: bool(7), float64(7), object(24)\n",
      "memory usage: 304.6+ KB\n",
      "None\n"
     ]
    }
   ],
   "source": [
    "#Check dtype of columns before conversion\n",
    "print(star_wars.info())\n",
    "\n",
    "#Convert each of the columns above to a float type.\n",
    "star_wars[star_wars.columns[9:15]]=star_wars[star_wars.columns[9:15]].astype(float)\n",
    "\n",
    "#Check dtype of columns after conversion\n",
    "print(star_wars.info())"
   ]
  },
  {
   "cell_type": "code",
   "execution_count": 13,
   "metadata": {
    "collapsed": false
   },
   "outputs": [
    {
     "name": "stdout",
     "output_type": "stream",
     "text": [
      "Index(['RespondentID',\n",
      "       'Have you seen any of the 6 films in the Star Wars franchise?',\n",
      "       'Do you consider yourself to be a fan of the Star Wars film franchise?',\n",
      "       'seen_1', 'seen_2', 'seen_3', 'seen_4', 'seen_5', 'seen_6',\n",
      "       'Please rank the Star Wars films in order of preference with 1 being your favorite film in the franchise and 6 being your least favorite film.',\n",
      "       'Unnamed: 10', 'Unnamed: 11', 'Unnamed: 12', 'Unnamed: 13',\n",
      "       'Unnamed: 14',\n",
      "       'Please state whether you view the following characters favorably, unfavorably, or are unfamiliar with him/her.',\n",
      "       'Unnamed: 16', 'Unnamed: 17', 'Unnamed: 18', 'Unnamed: 19',\n",
      "       'Unnamed: 20', 'Unnamed: 21', 'Unnamed: 22', 'Unnamed: 23',\n",
      "       'Unnamed: 24', 'Unnamed: 25', 'Unnamed: 26', 'Unnamed: 27',\n",
      "       'Unnamed: 28', 'Which character shot first?',\n",
      "       'Are you familiar with the Expanded Universe?',\n",
      "       'Do you consider yourself to be a fan of the Expanded Universe?ÂÃ¦',\n",
      "       'Do you consider yourself to be a fan of the Star Trek franchise?',\n",
      "       'Gender', 'Age', 'Household Income', 'Education',\n",
      "       'Location (Census Region)'],\n",
      "      dtype='object')\n",
      "Index(['RespondentID',\n",
      "       'Have you seen any of the 6 films in the Star Wars franchise?',\n",
      "       'Do you consider yourself to be a fan of the Star Wars film franchise?',\n",
      "       'seen_1', 'seen_2', 'seen_3', 'seen_4', 'seen_5', 'seen_6', 'ranking_1',\n",
      "       'ranking_2', 'ranking_3', 'ranking_4', 'ranking_5', 'ranking_6',\n",
      "       'Please state whether you view the following characters favorably, unfavorably, or are unfamiliar with him/her.',\n",
      "       'Unnamed: 16', 'Unnamed: 17', 'Unnamed: 18', 'Unnamed: 19',\n",
      "       'Unnamed: 20', 'Unnamed: 21', 'Unnamed: 22', 'Unnamed: 23',\n",
      "       'Unnamed: 24', 'Unnamed: 25', 'Unnamed: 26', 'Unnamed: 27',\n",
      "       'Unnamed: 28', 'Which character shot first?',\n",
      "       'Are you familiar with the Expanded Universe?',\n",
      "       'Do you consider yourself to be a fan of the Expanded Universe?ÂÃ¦',\n",
      "       'Do you consider yourself to be a fan of the Star Trek franchise?',\n",
      "       'Gender', 'Age', 'Household Income', 'Education',\n",
      "       'Location (Census Region)'],\n",
      "      dtype='object')\n"
     ]
    }
   ],
   "source": [
    "#Print current column names\n",
    "print(star_wars.columns)\n",
    "\n",
    "#Conversion\n",
    "star_wars=star_wars.rename(columns={\n",
    "    'Please rank the Star Wars films in order of preference with 1 being your favorite film in the franchise and 6 being your least favorite film.':\"ranking_1\",\n",
    "    'Unnamed: 10':\"ranking_2\", \n",
    "    'Unnamed: 11':\"ranking_3\", \n",
    "    'Unnamed: 12':\"ranking_4\", \n",
    "    'Unnamed: 13':\"ranking_5\",\n",
    "    'Unnamed: 14':\"ranking_6\",\n",
    "})\n",
    "\n",
    "#Print column names after conversion\n",
    "print(star_wars.columns)"
   ]
  },
  {
   "cell_type": "markdown",
   "metadata": {
    "collapsed": true
   },
   "source": [
    "## Finding the Highest-Ranked Movie"
   ]
  },
  {
   "cell_type": "code",
   "execution_count": 14,
   "metadata": {
    "collapsed": false
   },
   "outputs": [
    {
     "name": "stdout",
     "output_type": "stream",
     "text": [
      "ranking_1    3.732934\n",
      "ranking_2    4.087321\n",
      "ranking_3    4.341317\n",
      "ranking_4    3.272727\n",
      "ranking_5    2.513158\n",
      "ranking_6    3.047847\n",
      "dtype: float64 (6,)\n"
     ]
    }
   ],
   "source": [
    "#Compute the mean of each of the ranking columns from the last screen.\n",
    "mean=star_wars[star_wars.columns[9:15]].mean()\n",
    "print(mean,mean.shape)"
   ]
  },
  {
   "cell_type": "code",
   "execution_count": 15,
   "metadata": {
    "collapsed": false
   },
   "outputs": [
    {
     "data": {
      "text/plain": [
       "<matplotlib.axes._subplots.AxesSubplot at 0x7f524800e978>"
      ]
     },
     "execution_count": 15,
     "metadata": {},
     "output_type": "execute_result"
    },
    {
     "data": {
      "image/png": "[encoded data removed]",
      "text/plain": [
       "<matplotlib.figure.Figure at 0x7f5247ffbf28>"
      ]
     },
     "metadata": {},
     "output_type": "display_data"
    }
   ],
   "source": [
    "#Make a bar chart of each ranking.\n",
    "import matplotlib.pyplot as plt\n",
    "%matplotlib inline\n",
    "\n",
    "mean.plot.bar()"
   ]
  },
  {
   "cell_type": "markdown",
   "metadata": {},
   "source": [
    "So far, we've cleaned up the data, renamed several columns, and computed the average ranking of each movie. As I suspected, it looks like the \"original\" movies are rated much more highly than the newer ones."
   ]
  },
  {
   "cell_type": "markdown",
   "metadata": {},
   "source": [
    "## Finding the Most Viewed Movie"
   ]
  },
  {
   "cell_type": "code",
   "execution_count": 16,
   "metadata": {
    "collapsed": false
   },
   "outputs": [
    {
     "name": "stdout",
     "output_type": "stream",
     "text": [
      "seen_1    673\n",
      "seen_2    571\n",
      "seen_3    550\n",
      "seen_4    607\n",
      "seen_5    758\n",
      "seen_6    738\n",
      "dtype: int64\n"
     ]
    }
   ],
   "source": [
    "#Compute the sum of each of the seen columns\n",
    "sum_seen_columns=star_wars[star_wars.columns[3:9]].sum()\n",
    "print(sum_seen_columns)"
   ]
  },
  {
   "cell_type": "code",
   "execution_count": 17,
   "metadata": {
    "collapsed": false
   },
   "outputs": [
    {
     "data": {
      "text/plain": [
       "<matplotlib.axes._subplots.AxesSubplot at 0x7f5245d67e80>"
      ]
     },
     "execution_count": 17,
     "metadata": {},
     "output_type": "execute_result"
    },
    {
     "data": {
      "image/png": "[encoded data removed]",
      "text/plain": [
       "<matplotlib.figure.Figure at 0x7f5249aedef0>"
      ]
     },
     "metadata": {},
     "output_type": "display_data"
    }
   ],
   "source": [
    "#Make a bar chart of each ranking.\n",
    "sum_seen_columns.plot.bar()"
   ]
  },
  {
   "cell_type": "markdown",
   "metadata": {},
   "source": [
    "It appears that the original movies were seen by more respondents than the newer movies. This reinforces what we saw in the rankings, where the earlier movies seem to be more popular."
   ]
  },
  {
   "cell_type": "markdown",
   "metadata": {},
   "source": [
    "## Exploring the Data by Binary Segments"
   ]
  },
  {
   "cell_type": "code",
   "execution_count": 18,
   "metadata": {
    "collapsed": true
   },
   "outputs": [],
   "source": [
    "#Split the data into two groups based on one of the binary columns above.\n",
    "males=star_wars[star_wars[\"Gender\"]==\"Male\"]\n",
    "females=star_wars[star_wars[\"Gender\"]==\"Female\"]"
   ]
  },
  {
   "cell_type": "code",
   "execution_count": 22,
   "metadata": {
    "collapsed": false
   },
   "outputs": [
    {
     "data": {
      "image/png": "[encoded data removed]",
      "text/plain": [
       "<matplotlib.figure.Figure at 0x7f5245d7c860>"
      ]
     },
     "metadata": {},
     "output_type": "display_data"
    },
    {
     "data": {
      "image/png": "[encoded data removed]",
      "text/plain": [
       "<matplotlib.figure.Figure at 0x7f5245b08a58>"
      ]
     },
     "metadata": {},
     "output_type": "display_data"
    }
   ],
   "source": [
    "#Redo the two previous analyses (find the most viewed movie and the highest-ranked movie) separately for each group, and then compare the results.\n",
    "#Highest Ranked\n",
    "highest_ranked_males=males[males.columns[9:15]].mean()\n",
    "highest_ranked_females=females[females.columns[9:15]].mean()\n",
    "highest_ranked_males.plot.bar()\n",
    "plt.title(\"highest_ranked_males\")\n",
    "plt.show()\n",
    "highest_ranked_females.plot.bar()\n",
    "plt.title(\"highest_ranked_females\")\n",
    "plt.show()"
   ]
  },
  {
   "cell_type": "code",
   "execution_count": 23,
   "metadata": {
    "collapsed": false
   },
   "outputs": [
    {
     "data": {
      "image/png": "[encoded data removed]",
      "text/plain": [
       "<matplotlib.figure.Figure at 0x7f5245a76ba8>"
      ]
     },
     "metadata": {},
     "output_type": "display_data"
    },
    {
     "data": {
      "image/png": "[encoded data removed]",
      "text/plain": [
       "<matplotlib.figure.Figure at 0x7f5245a3e940>"
      ]
     },
     "metadata": {},
     "output_type": "display_data"
    }
   ],
   "source": [
    "#Most Viewed\n",
    "most_viewed_males=males[males.columns[3:9]].sum()\n",
    "most_viewed_females=females[females.columns[3:9]].sum()\n",
    "most_viewed_males.plot.bar()\n",
    "plt.title(\"most_viewed_males\")\n",
    "plt.show()\n",
    "most_viewed_females.plot.bar()\n",
    "plt.title(\"most_viewed_females\")\n",
    "plt.show()"
   ]
  },
  {
   "cell_type": "markdown",
   "metadata": {},
   "source": [
    "Interestingly, more males watches episodes 1-3, but males liked them far less than females did."
   ]
  }
 ],
 "metadata": {
  "kernelspec": {
   "display_name": "Python 3",
   "language": "python",
   "name": "python3"
  },
  "language_info": {
   "codemirror_mode": {
    "name": "ipython",
    "version": 3
   },
   "file_extension": ".py",
   "mimetype": "text/x-python",
   "name": "python",
   "nbconvert_exporter": "python",
   "pygments_lexer": "ipython3",
   "version": "3.4.3"
  }
 },
 "nbformat": 4,
 "nbformat_minor": 0
}
